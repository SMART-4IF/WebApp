{
 "cells": [
  {
   "cell_type": "markdown",
   "metadata": {},
   "source": [
    "# 1. Import and Install Dependencies"
   ]
  },
  {
   "cell_type": "code",
   "execution_count": 1,
   "metadata": {},
   "outputs": [
    {
     "name": "stdout",
     "output_type": "stream",
     "text": [
      "Requirement already satisfied: opencv-python in c:\\users\\maxim\\pycharmprojects\\lsfia\\venv\\lib\\site-packages (4.5.5.64)\n",
      "Requirement already satisfied: mediapipe in c:\\users\\maxim\\pycharmprojects\\lsfia\\venv\\lib\\site-packages (0.8.9.1)\n",
      "Requirement already satisfied: sklearn in c:\\users\\maxim\\pycharmprojects\\lsfia\\venv\\lib\\site-packages (0.0)\n",
      "Requirement already satisfied: matplotlib in c:\\users\\maxim\\pycharmprojects\\lsfia\\venv\\lib\\site-packages (3.5.1)\n",
      "Requirement already satisfied: numpy>=1.19.3 in c:\\users\\maxim\\pycharmprojects\\lsfia\\venv\\lib\\site-packages (from opencv-python) (1.19.5)\n",
      "Requirement already satisfied: attrs>=19.1.0 in c:\\users\\maxim\\pycharmprojects\\lsfia\\venv\\lib\\site-packages (from mediapipe) (21.4.0)\n",
      "Requirement already satisfied: opencv-contrib-python in c:\\users\\maxim\\pycharmprojects\\lsfia\\venv\\lib\\site-packages (from mediapipe) (4.5.5.64)\n",
      "Requirement already satisfied: protobuf>=3.11.4 in c:\\users\\maxim\\pycharmprojects\\lsfia\\venv\\lib\\site-packages (from mediapipe) (3.20.0)\n",
      "Requirement already satisfied: absl-py in c:\\users\\maxim\\pycharmprojects\\lsfia\\venv\\lib\\site-packages (from mediapipe) (0.15.0)\n",
      "Requirement already satisfied: scikit-learn in c:\\users\\maxim\\pycharmprojects\\lsfia\\venv\\lib\\site-packages (from sklearn) (1.0.2)\n",
      "Requirement already satisfied: fonttools>=4.22.0 in c:\\users\\maxim\\pycharmprojects\\lsfia\\venv\\lib\\site-packages (from matplotlib) (4.32.0)\n",
      "Requirement already satisfied: cycler>=0.10 in c:\\users\\maxim\\pycharmprojects\\lsfia\\venv\\lib\\site-packages (from matplotlib) (0.11.0)\n",
      "Requirement already satisfied: pyparsing>=2.2.1 in c:\\users\\maxim\\pycharmprojects\\lsfia\\venv\\lib\\site-packages (from matplotlib) (3.0.8)\n",
      "Requirement already satisfied: kiwisolver>=1.0.1 in c:\\users\\maxim\\pycharmprojects\\lsfia\\venv\\lib\\site-packages (from matplotlib) (1.4.2)\n",
      "Requirement already satisfied: pillow>=6.2.0 in c:\\users\\maxim\\pycharmprojects\\lsfia\\venv\\lib\\site-packages (from matplotlib) (9.1.0)\n",
      "Requirement already satisfied: packaging>=20.0 in c:\\users\\maxim\\pycharmprojects\\lsfia\\venv\\lib\\site-packages (from matplotlib) (21.3)\n",
      "Requirement already satisfied: python-dateutil>=2.7 in c:\\users\\maxim\\pycharmprojects\\lsfia\\venv\\lib\\site-packages (from matplotlib) (2.8.2)\n",
      "Requirement already satisfied: six>=1.5 in c:\\users\\maxim\\pycharmprojects\\lsfia\\venv\\lib\\site-packages (from python-dateutil>=2.7->matplotlib) (1.15.0)\n",
      "Requirement already satisfied: joblib>=0.11 in c:\\users\\maxim\\pycharmprojects\\lsfia\\venv\\lib\\site-packages (from scikit-learn->sklearn) (1.1.0)\n",
      "Requirement already satisfied: threadpoolctl>=2.0.0 in c:\\users\\maxim\\pycharmprojects\\lsfia\\venv\\lib\\site-packages (from scikit-learn->sklearn) (3.1.0)\n",
      "Requirement already satisfied: scipy>=1.1.0 in c:\\users\\maxim\\pycharmprojects\\lsfia\\venv\\lib\\site-packages (from scikit-learn->sklearn) (1.8.0)\n"
     ]
    }
   ],
   "source": [
    "!pip install opencv-python mediapipe sklearn matplotlib"
   ]
  },
  {
   "cell_type": "code",
   "execution_count": 2,
   "metadata": {},
   "outputs": [],
   "source": [
    "import cv2\n",
    "import numpy as np\n",
    "import os\n",
    "from matplotlib import pyplot as plt\n",
    "import time\n",
    "import mediapipe as mp"
   ]
  },
  {
   "cell_type": "markdown",
   "metadata": {},
   "source": [
    "# 2. Keypoints using MP Holistic"
   ]
  },
  {
   "cell_type": "code",
   "execution_count": 3,
   "metadata": {},
   "outputs": [],
   "source": [
    "mp_holistic = mp.solutions.holistic # Holistic model\n",
    "mp_drawing = mp.solutions.drawing_utils # Drawing utilities"
   ]
  },
  {
   "cell_type": "code",
   "execution_count": 4,
   "metadata": {},
   "outputs": [],
   "source": [
    "def mediapipe_detection(image, model):\n",
    "    image = cv2.cvtColor(image, cv2.COLOR_BGR2RGB) # COLOR CONVERSION BGR 2 RGB\n",
    "    image.flags.writeable = False                  # Image is no longer writeable\n",
    "    results = model.process(image)                 # Make prediction\n",
    "    image.flags.writeable = True                   # Image is now writeable \n",
    "    image = cv2.cvtColor(image, cv2.COLOR_RGB2BGR) # COLOR COVERSION RGB 2 BGR\n",
    "    return image, results"
   ]
  },
  {
   "cell_type": "code",
   "execution_count": 5,
   "metadata": {},
   "outputs": [],
   "source": [
    "def draw_landmarks(image, results):\n",
    "    mp_drawing.draw_landmarks(image, results.face_landmarks, mp_holistic.FACEMESH_TESSELATION) # Draw face connections\n",
    "    mp_drawing.draw_landmarks(image, results.pose_landmarks, mp_holistic.POSE_CONNECTIONS) # Draw pose connections\n",
    "    mp_drawing.draw_landmarks(image, results.left_hand_landmarks, mp_holistic.HAND_CONNECTIONS) # Draw left hand connections\n",
    "    mp_drawing.draw_landmarks(image, results.right_hand_landmarks, mp_holistic.HAND_CONNECTIONS) # Draw right hand connections"
   ]
  },
  {
   "cell_type": "code",
   "execution_count": 6,
   "metadata": {},
   "outputs": [],
   "source": [
    "def draw_styled_landmarks(image, results):\n",
    "    # Draw face connections\n",
    "    mp_drawing.draw_landmarks(image, results.face_landmarks, mp_holistic.FACEMESH_TESSELATION,\n",
    "                             mp_drawing.DrawingSpec(color=(80,110,10), thickness=1, circle_radius=1), \n",
    "                             mp_drawing.DrawingSpec(color=(80,256,121), thickness=1, circle_radius=1)\n",
    "                             ) \n",
    "    # Draw pose connections\n",
    "    mp_drawing.draw_landmarks(image, results.pose_landmarks, mp_holistic.POSE_CONNECTIONS,\n",
    "                             mp_drawing.DrawingSpec(color=(80,22,10), thickness=2, circle_radius=4), \n",
    "                             mp_drawing.DrawingSpec(color=(80,44,121), thickness=2, circle_radius=2)\n",
    "                             ) \n",
    "    # Draw left hand connections\n",
    "    mp_drawing.draw_landmarks(image, results.left_hand_landmarks, mp_holistic.HAND_CONNECTIONS, \n",
    "                             mp_drawing.DrawingSpec(color=(121,22,76), thickness=2, circle_radius=4), \n",
    "                             mp_drawing.DrawingSpec(color=(121,44,250), thickness=2, circle_radius=2)\n",
    "                             ) \n",
    "    # Draw right hand connections  \n",
    "    mp_drawing.draw_landmarks(image, results.right_hand_landmarks, mp_holistic.HAND_CONNECTIONS, \n",
    "                             mp_drawing.DrawingSpec(color=(245,117,66), thickness=2, circle_radius=4), \n",
    "                             mp_drawing.DrawingSpec(color=(245,66,230), thickness=2, circle_radius=2)\n",
    "                             ) "
   ]
  },
  {
   "cell_type": "code",
   "execution_count": 7,
   "metadata": {},
   "outputs": [
    {
     "name": "stdout",
     "output_type": "stream",
     "text": [
      "<class 'mediapipe.python.solution_base.SolutionOutputs'>\n",
      "<class 'mediapipe.python.solution_base.SolutionOutputs'>\n",
      "<class 'mediapipe.python.solution_base.SolutionOutputs'>\n",
      "<class 'mediapipe.python.solution_base.SolutionOutputs'>\n",
      "<class 'mediapipe.python.solution_base.SolutionOutputs'>\n",
      "<class 'mediapipe.python.solution_base.SolutionOutputs'>\n",
      "<class 'mediapipe.python.solution_base.SolutionOutputs'>\n",
      "<class 'mediapipe.python.solution_base.SolutionOutputs'>\n",
      "<class 'mediapipe.python.solution_base.SolutionOutputs'>\n",
      "<class 'mediapipe.python.solution_base.SolutionOutputs'>\n",
      "<class 'mediapipe.python.solution_base.SolutionOutputs'>\n",
      "<class 'mediapipe.python.solution_base.SolutionOutputs'>\n",
      "<class 'mediapipe.python.solution_base.SolutionOutputs'>\n",
      "<class 'mediapipe.python.solution_base.SolutionOutputs'>\n",
      "<class 'mediapipe.python.solution_base.SolutionOutputs'>\n",
      "<class 'mediapipe.python.solution_base.SolutionOutputs'>\n",
      "<class 'mediapipe.python.solution_base.SolutionOutputs'>\n",
      "<class 'mediapipe.python.solution_base.SolutionOutputs'>\n",
      "<class 'mediapipe.python.solution_base.SolutionOutputs'>\n",
      "<class 'mediapipe.python.solution_base.SolutionOutputs'>\n",
      "<class 'mediapipe.python.solution_base.SolutionOutputs'>\n",
      "<class 'mediapipe.python.solution_base.SolutionOutputs'>\n",
      "<class 'mediapipe.python.solution_base.SolutionOutputs'>\n",
      "<class 'mediapipe.python.solution_base.SolutionOutputs'>\n",
      "<class 'mediapipe.python.solution_base.SolutionOutputs'>\n",
      "<class 'mediapipe.python.solution_base.SolutionOutputs'>\n",
      "<class 'mediapipe.python.solution_base.SolutionOutputs'>\n",
      "<class 'mediapipe.python.solution_base.SolutionOutputs'>\n",
      "<class 'mediapipe.python.solution_base.SolutionOutputs'>\n",
      "<class 'mediapipe.python.solution_base.SolutionOutputs'>\n",
      "<class 'mediapipe.python.solution_base.SolutionOutputs'>\n",
      "<class 'mediapipe.python.solution_base.SolutionOutputs'>\n",
      "<class 'mediapipe.python.solution_base.SolutionOutputs'>\n",
      "<class 'mediapipe.python.solution_base.SolutionOutputs'>\n"
     ]
    },
    {
     "ename": "KeyboardInterrupt",
     "evalue": "",
     "output_type": "error",
     "traceback": [
      "\u001B[1;31m---------------------------------------------------------------------------\u001B[0m",
      "\u001B[1;31mKeyboardInterrupt\u001B[0m                         Traceback (most recent call last)",
      "Input \u001B[1;32mIn [7]\u001B[0m, in \u001B[0;36m<cell line: 3>\u001B[1;34m()\u001B[0m\n\u001B[0;32m     17\u001B[0m     cv2\u001B[38;5;241m.\u001B[39mimshow(\u001B[38;5;124m'\u001B[39m\u001B[38;5;124mOpenCV Feed\u001B[39m\u001B[38;5;124m'\u001B[39m, image)\n\u001B[0;32m     19\u001B[0m     \u001B[38;5;66;03m# Break gracefully\u001B[39;00m\n\u001B[1;32m---> 20\u001B[0m     \u001B[38;5;28;01mif\u001B[39;00m \u001B[43mcv2\u001B[49m\u001B[38;5;241;43m.\u001B[39;49m\u001B[43mwaitKey\u001B[49m\u001B[43m(\u001B[49m\u001B[38;5;241;43m10\u001B[39;49m\u001B[43m)\u001B[49m \u001B[38;5;241m&\u001B[39m \u001B[38;5;241m0xFF\u001B[39m \u001B[38;5;241m==\u001B[39m \u001B[38;5;28mord\u001B[39m(\u001B[38;5;124m'\u001B[39m\u001B[38;5;124mq\u001B[39m\u001B[38;5;124m'\u001B[39m):\n\u001B[0;32m     21\u001B[0m         \u001B[38;5;28;01mbreak\u001B[39;00m\n\u001B[0;32m     22\u001B[0m cap\u001B[38;5;241m.\u001B[39mrelease()\n",
      "\u001B[1;31mKeyboardInterrupt\u001B[0m: "
     ]
    }
   ],
   "source": [
    "cap = cv2.VideoCapture(0)\n",
    "# Set mediapipe model \n",
    "with mp_holistic.Holistic(min_detection_confidence=0.5, min_tracking_confidence=0.5) as holistic:\n",
    "    while cap.isOpened():\n",
    "\n",
    "        # Read feed\n",
    "        ret, frame = cap.read()\n",
    "\n",
    "        # Make detections\n",
    "        image, results = mediapipe_detection(frame, holistic)\n",
    "        print(results)\n",
    "        \n",
    "        # Draw landmarks\n",
    "        draw_styled_landmarks(image, results)\n",
    "\n",
    "        # Show to screen\n",
    "        cv2.imshow('OpenCV Feed', image)\n",
    "\n",
    "        # Break gracefully\n",
    "        if cv2.waitKey(10) & 0xFF == ord('q'):\n",
    "            break\n",
    "    cap.release()\n",
    "    cv2.destroyAllWindows()"
   ]
  },
  {
   "cell_type": "code",
   "execution_count": null,
   "metadata": {},
   "outputs": [],
   "source": [
    "draw_landmarks(frame, results)"
   ]
  },
  {
   "cell_type": "code",
   "execution_count": null,
   "metadata": {},
   "outputs": [],
   "source": [
    "plt.imshow(cv2.cvtColor(frame, cv2.COLOR_BGR2RGB))"
   ]
  },
  {
   "cell_type": "markdown",
   "metadata": {},
   "source": [
    "# 3. Extract Keypoint Values"
   ]
  },
  {
   "cell_type": "code",
   "execution_count": 7,
   "outputs": [],
   "source": [],
   "metadata": {
    "collapsed": false,
    "pycharm": {
     "name": "#%%\n"
    }
   }
  },
  {
   "cell_type": "code",
   "execution_count": 8,
   "metadata": {},
   "outputs": [
    {
     "ename": "AttributeError",
     "evalue": "'NoneType' object has no attribute 'landmark'",
     "output_type": "error",
     "traceback": [
      "\u001B[1;31m---------------------------------------------------------------------------\u001B[0m",
      "\u001B[1;31mAttributeError\u001B[0m                            Traceback (most recent call last)",
      "Input \u001B[1;32mIn [8]\u001B[0m, in \u001B[0;36m<cell line: 1>\u001B[1;34m()\u001B[0m\n\u001B[1;32m----> 1\u001B[0m \u001B[38;5;28mlen\u001B[39m(\u001B[43mresults\u001B[49m\u001B[38;5;241;43m.\u001B[39;49m\u001B[43mleft_hand_landmarks\u001B[49m\u001B[38;5;241;43m.\u001B[39;49m\u001B[43mlandmark\u001B[49m)\n",
      "\u001B[1;31mAttributeError\u001B[0m: 'NoneType' object has no attribute 'landmark'"
     ]
    }
   ],
   "source": [
    "len(results.left_hand_landmarks.landmark)"
   ]
  },
  {
   "cell_type": "code",
   "execution_count": 9,
   "metadata": {},
   "outputs": [],
   "source": [
    "pose = []\n",
    "for res in results.pose_landmarks.landmark:\n",
    "    test = np.array([res.x, res.y, res.z, res.visibility])\n",
    "    pose.append(test)"
   ]
  },
  {
   "cell_type": "code",
   "execution_count": 10,
   "metadata": {},
   "outputs": [],
   "source": [
    "pose = np.array([[res.x, res.y, res.z, res.visibility] for res in results.pose_landmarks.landmark]).flatten() if results.pose_landmarks else np.zeros(132)\n",
    "face = np.array([[res.x, res.y, res.z] for res in results.face_landmarks.landmark]).flatten() if results.face_landmarks else np.zeros(1404)\n",
    "lh = np.array([[res.x, res.y, res.z] for res in results.left_hand_landmarks.landmark]).flatten() if results.left_hand_landmarks else np.zeros(21*3)\n",
    "rh = np.array([[res.x, res.y, res.z] for res in results.right_hand_landmarks.landmark]).flatten() if results.right_hand_landmarks else np.zeros(21*3)"
   ]
  },
  {
   "cell_type": "code",
   "execution_count": 11,
   "metadata": {},
   "outputs": [],
   "source": [
    "face = np.array([[res.x, res.y, res.z] for res in results.face_landmarks.landmark]).flatten()\n",
    "\n",
    "    #if results.face_landmarks\n",
    "    #else np.zeros(1404)"
   ]
  },
  {
   "cell_type": "code",
   "execution_count": 12,
   "metadata": {},
   "outputs": [],
   "source": [
    "def extract_keypoints(results):\n",
    "    pose = np.array([[res.x, res.y, res.z, res.visibility] for res in results.pose_landmarks.landmark]).flatten() if results.pose_landmarks else np.zeros(33*4)\n",
    "    face = np.array([[res.x, res.y, res.z] for res in results.face_landmarks.landmark]).flatten() if results.face_landmarks else np.zeros(468*3)\n",
    "    lh = np.array([[res.x, res.y, res.z] for res in results.left_hand_landmarks.landmark]).flatten() if results.left_hand_landmarks else np.zeros(21*3)\n",
    "    rh = np.array([[res.x, res.y, res.z] for res in results.right_hand_landmarks.landmark]).flatten() if results.right_hand_landmarks else np.zeros(21*3)\n",
    "    return np.concatenate([pose, face, lh, rh])"
   ]
  },
  {
   "cell_type": "code",
   "execution_count": 13,
   "metadata": {},
   "outputs": [],
   "source": [
    "result_test = extract_keypoints(results)"
   ]
  },
  {
   "cell_type": "code",
   "execution_count": 14,
   "metadata": {},
   "outputs": [
    {
     "data": {
      "text/plain": "array([ 0.5585385 ,  0.89363945, -1.09419668, ...,  0.        ,\n        0.        ,  0.        ])"
     },
     "execution_count": 14,
     "metadata": {},
     "output_type": "execute_result"
    }
   ],
   "source": [
    "result_test"
   ]
  },
  {
   "cell_type": "code",
   "execution_count": 15,
   "metadata": {},
   "outputs": [],
   "source": [
    "np.save('0', result_test)"
   ]
  },
  {
   "cell_type": "code",
   "execution_count": 16,
   "metadata": {},
   "outputs": [
    {
     "data": {
      "text/plain": "array([ 0.5585385 ,  0.89363945, -1.09419668, ...,  0.        ,\n        0.        ,  0.        ])"
     },
     "execution_count": 16,
     "metadata": {},
     "output_type": "execute_result"
    }
   ],
   "source": [
    "np.load('0.npy')"
   ]
  },
  {
   "cell_type": "markdown",
   "metadata": {},
   "source": [
    "# 4. Setup Folders for Collection"
   ]
  },
  {
   "cell_type": "code",
   "execution_count": 17,
   "metadata": {},
   "outputs": [],
   "source": [
    "# Path for exported data, numpy arrays\n",
    "DATA_PATH = os.path.join('MP_Data-FR')\n",
    "\n",
    "# Actions that we try to detect\n",
    "actions = np.array(['bonjour', 'jetaime', 'aurevoir'])\n",
    "\n",
    "# Thirty videos worth of data\n",
    "no_sequences = 1\n",
    "\n",
    "# Videos are going to be 30 frames in length\n",
    "sequence_length = 1\n",
    "\n",
    "# Folder start\n",
    "start_folder = 1"
   ]
  },
  {
   "cell_type": "code",
   "execution_count": 18,
   "outputs": [
    {
     "data": {
      "text/plain": "'MP_Data-FR'"
     },
     "execution_count": 18,
     "metadata": {},
     "output_type": "execute_result"
    }
   ],
   "source": [
    "DATA_PATH"
   ],
   "metadata": {
    "collapsed": false,
    "pycharm": {
     "name": "#%%\n"
    }
   }
  },
  {
   "cell_type": "code",
   "execution_count": 19,
   "metadata": {},
   "outputs": [],
   "source": [
    "for action in actions:\n",
    "    if np.array(os.listdir(os.path.join(DATA_PATH, action))).astype(int).size != 0:\n",
    "        dirmax = np.max(np.array(os.listdir(os.path.join(DATA_PATH, action))).astype(int))\n",
    "    else:\n",
    "        dirmax = 0\n",
    "    for sequence in range(1, no_sequences+1):\n",
    "        try: \n",
    "            os.makedirs(os.path.join(DATA_PATH, action, str(dirmax+sequence)))\n",
    "        except:\n",
    "            pass"
   ]
  },
  {
   "cell_type": "markdown",
   "metadata": {
    "pycharm": {
     "name": "#%% md\n"
    }
   },
   "source": [
    "# 5. Collect Keypoint Values for Training and Testing"
   ]
  },
  {
   "cell_type": "code",
   "execution_count": 21,
   "outputs": [
    {
     "name": "stdout",
     "output_type": "stream",
     "text": [
      "sequence : 1\n"
     ]
    },
    {
     "ename": "error",
     "evalue": "OpenCV(4.5.5) D:\\a\\opencv-python\\opencv-python\\opencv\\modules\\imgproc\\src\\color.cpp:182: error: (-215:Assertion failed) !_src.empty() in function 'cv::cvtColor'\n",
     "output_type": "error",
     "traceback": [
      "\u001B[1;31m---------------------------------------------------------------------------\u001B[0m",
      "\u001B[1;31merror\u001B[0m                                     Traceback (most recent call last)",
      "Input \u001B[1;32mIn [21]\u001B[0m, in \u001B[0;36m<cell line: 4>\u001B[1;34m()\u001B[0m\n\u001B[0;32m     15\u001B[0m ret, frame \u001B[38;5;241m=\u001B[39m cap\u001B[38;5;241m.\u001B[39mread()\n\u001B[0;32m     17\u001B[0m \u001B[38;5;66;03m# Make detections\u001B[39;00m\n\u001B[1;32m---> 18\u001B[0m image, results \u001B[38;5;241m=\u001B[39m \u001B[43mmediapipe_detection\u001B[49m\u001B[43m(\u001B[49m\u001B[43mframe\u001B[49m\u001B[43m,\u001B[49m\u001B[43m \u001B[49m\u001B[43mholistic\u001B[49m\u001B[43m)\u001B[49m\n\u001B[0;32m     20\u001B[0m \u001B[38;5;66;03m# Draw landmarks\u001B[39;00m\n\u001B[0;32m     21\u001B[0m draw_styled_landmarks(image, results)\n",
      "Input \u001B[1;32mIn [4]\u001B[0m, in \u001B[0;36mmediapipe_detection\u001B[1;34m(image, model)\u001B[0m\n\u001B[0;32m      1\u001B[0m \u001B[38;5;28;01mdef\u001B[39;00m \u001B[38;5;21mmediapipe_detection\u001B[39m(image, model):\n\u001B[1;32m----> 2\u001B[0m     image \u001B[38;5;241m=\u001B[39m \u001B[43mcv2\u001B[49m\u001B[38;5;241;43m.\u001B[39;49m\u001B[43mcvtColor\u001B[49m\u001B[43m(\u001B[49m\u001B[43mimage\u001B[49m\u001B[43m,\u001B[49m\u001B[43m \u001B[49m\u001B[43mcv2\u001B[49m\u001B[38;5;241;43m.\u001B[39;49m\u001B[43mCOLOR_BGR2RGB\u001B[49m\u001B[43m)\u001B[49m \u001B[38;5;66;03m# COLOR CONVERSION BGR 2 RGB\u001B[39;00m\n\u001B[0;32m      3\u001B[0m     image\u001B[38;5;241m.\u001B[39mflags\u001B[38;5;241m.\u001B[39mwriteable \u001B[38;5;241m=\u001B[39m \u001B[38;5;28;01mFalse\u001B[39;00m                  \u001B[38;5;66;03m# Image is no longer writeable\u001B[39;00m\n\u001B[0;32m      4\u001B[0m     results \u001B[38;5;241m=\u001B[39m model\u001B[38;5;241m.\u001B[39mprocess(image)                 \u001B[38;5;66;03m# Make prediction\u001B[39;00m\n",
      "\u001B[1;31merror\u001B[0m: OpenCV(4.5.5) D:\\a\\opencv-python\\opencv-python\\opencv\\modules\\imgproc\\src\\color.cpp:182: error: (-215:Assertion failed) !_src.empty() in function 'cv::cvtColor'\n"
     ]
    }
   ],
   "source": [
    "cap = cv2.VideoCapture(\"images/video-main.mp4\")\n",
    "\n",
    "# Set mediapipe model\n",
    "with mp_holistic.Holistic(min_detection_confidence=0.5, min_tracking_confidence=0.5) as holistic:\n",
    "\n",
    "    # NEW LOOP\n",
    "    # Loop through actions\n",
    "    for action in actions:\n",
    "        # Loop through sequences aka videos\n",
    "        for sequence in range(start_folder, start_folder+no_sequences):\n",
    "            # Loop through video length aka sequence length\n",
    "            for frame_num in range(sequence_length):\n",
    "                print(\"sequence : \" + str(sequence))\n",
    "                # Read feed\n",
    "                ret, frame = cap.read()\n",
    "\n",
    "                # Make detections\n",
    "                image, results = mediapipe_detection(frame, holistic)\n",
    "\n",
    "                # Draw landmarks\n",
    "                draw_styled_landmarks(image, results)\n",
    "\n",
    "                # NEW Apply wait logic\n",
    "                if frame_num == 0:\n",
    "                    cv2.putText(image, 'STARTING COLLECTION', (120,200),\n",
    "                               cv2.FONT_HERSHEY_SIMPLEX, 1, (0,255, 0), 4, cv2.LINE_AA)\n",
    "                    cv2.putText(image, 'Collecting frames for {} Video Number {}'.format(action, sequence), (15,12),\n",
    "                               cv2.FONT_HERSHEY_SIMPLEX, 0.5, (0, 0, 255), 1, cv2.LINE_AA)\n",
    "                    # Show to screen\n",
    "                    cv2.imshow('OpenCV Feed', image)\n",
    "                    cv2.waitKey(500)\n",
    "                else:\n",
    "                    cv2.putText(image, 'Collecting frames for {} Video Number {}'.format(action, sequence), (15,12),\n",
    "                               cv2.FONT_HERSHEY_SIMPLEX, 0.5, (0, 0, 255), 1, cv2.LINE_AA)\n",
    "                    # Show to screen\n",
    "                    cv2.imshow('OpenCV Feed', image)\n",
    "\n",
    "                # NEW Export keypoints\n",
    "                keypoints = extract_keypoints(results)\n",
    "                npy_path = os.path.join(DATA_PATH, action, str(sequence), str(frame_num))\n",
    "                np.save(npy_path, keypoints)\n",
    "\n",
    "                # Break gracefully\n",
    "                if cv2.waitKey(10) & 0xFF == ord('q'):\n",
    "                    break\n",
    "\n",
    "    cap.release()\n",
    "    cv2.destroyAllWindows()"
   ],
   "metadata": {
    "collapsed": false,
    "pycharm": {
     "name": "#%%\n"
    }
   }
  },
  {
   "cell_type": "code",
   "execution_count": null,
   "outputs": [],
   "source": [
    "cap.release()\n",
    "cv2.destroyAllWindows()"
   ],
   "metadata": {
    "collapsed": false,
    "pycharm": {
     "name": "#%%\n"
    }
   }
  },
  {
   "cell_type": "markdown",
   "metadata": {},
   "source": [
    "# 6. Preprocess Data and Create Labels and Features"
   ]
  },
  {
   "cell_type": "code",
   "execution_count": null,
   "metadata": {},
   "outputs": [],
   "source": [
    "from sklearn.model_selection import train_test_split\n",
    "from tensorflow.keras.utils     import to_categorical"
   ]
  },
  {
   "cell_type": "code",
   "execution_count": null,
   "metadata": {},
   "outputs": [],
   "source": [
    "label_map = {label:num for num, label in enumerate(actions)}"
   ]
  },
  {
   "cell_type": "code",
   "execution_count": null,
   "metadata": {},
   "outputs": [],
   "source": [
    "label_map"
   ]
  },
  {
   "cell_type": "code",
   "execution_count": null,
   "metadata": {},
   "outputs": [],
   "source": [
    "sequences, labels = [], []\n",
    "for action in actions:\n",
    "    for sequence in np.array(os.listdir(os.path.join(DATA_PATH, action))).astype(int):\n",
    "        window = []\n",
    "        for frame_num in range(sequence_length):\n",
    "            res = np.load(os.path.join(DATA_PATH, action, str(sequence), \"{}.npy\".format(frame_num)))\n",
    "            window.append(res)\n",
    "        sequences.append(window)\n",
    "        labels.append(label_map[action])"
   ]
  },
  {
   "cell_type": "code",
   "execution_count": null,
   "metadata": {},
   "outputs": [],
   "source": [
    "np.array(sequences).shape"
   ]
  },
  {
   "cell_type": "code",
   "execution_count": null,
   "metadata": {},
   "outputs": [],
   "source": [
    "np.array(labels).shape"
   ]
  },
  {
   "cell_type": "code",
   "execution_count": null,
   "metadata": {},
   "outputs": [],
   "source": [
    "X = np.array(sequences)"
   ]
  },
  {
   "cell_type": "code",
   "execution_count": null,
   "metadata": {},
   "outputs": [],
   "source": [
    "X.shape"
   ]
  },
  {
   "cell_type": "code",
   "execution_count": null,
   "metadata": {},
   "outputs": [],
   "source": [
    "y = to_categorical(labels).astype(int)"
   ]
  },
  {
   "cell_type": "code",
   "execution_count": null,
   "metadata": {},
   "outputs": [],
   "source": [
    "X_train, X_test, y_train, y_test = train_test_split(X, y, test_size=0.05)"
   ]
  },
  {
   "cell_type": "code",
   "execution_count": null,
   "metadata": {},
   "outputs": [],
   "source": [
    "y_test.shape"
   ]
  },
  {
   "cell_type": "markdown",
   "metadata": {},
   "source": [
    "# 7. Build and Train LSTM Neural Network"
   ]
  },
  {
   "cell_type": "code",
   "execution_count": null,
   "metadata": {},
   "outputs": [],
   "source": [
    "from tensorflow.keras.models import Sequential\n",
    "from tensorflow.keras.layers import LSTM, Dense\n",
    "from tensorflow.keras.callbacks import TensorBoard"
   ]
  },
  {
   "cell_type": "code",
   "execution_count": null,
   "metadata": {},
   "outputs": [],
   "source": [
    "log_dir = os.path.join('Logs')\n",
    "tb_callback = TensorBoard(log_dir=log_dir)"
   ]
  },
  {
   "cell_type": "code",
   "execution_count": null,
   "metadata": {},
   "outputs": [],
   "source": [
    "model = Sequential()\n",
    "model.add(LSTM(64, return_sequences=True, activation='relu', input_shape=(30,1662)))\n",
    "model.add(LSTM(128, return_sequences=True, activation='relu'))\n",
    "model.add(LSTM(64, return_sequences=False, activation='relu'))\n",
    "model.add(Dense(64, activation='relu'))\n",
    "model.add(Dense(32, activation='relu'))\n",
    "model.add(Dense(actions.shape[0], activation='softmax'))"
   ]
  },
  {
   "cell_type": "code",
   "execution_count": null,
   "metadata": {},
   "outputs": [],
   "source": [
    "model.compile(optimizer='Adam', loss='categorical_crossentropy', metrics=['categorical_accuracy'])"
   ]
  },
  {
   "cell_type": "code",
   "execution_count": null,
   "metadata": {
    "scrolled": true
   },
   "outputs": [],
   "source": [
    "model.fit(X_train, y_train, epochs=2000, callbacks=[tb_callback])"
   ]
  },
  {
   "cell_type": "code",
   "execution_count": 64,
   "metadata": {},
   "outputs": [
    {
     "name": "stdout",
     "output_type": "stream",
     "text": [
      "Model: \"sequential_1\"\n",
      "_________________________________________________________________\n",
      "Layer (type)                 Output Shape              Param #   \n",
      "=================================================================\n",
      "lstm_3 (LSTM)                (None, 30, 64)            442112    \n",
      "_________________________________________________________________\n",
      "lstm_4 (LSTM)                (None, 30, 128)           98816     \n",
      "_________________________________________________________________\n",
      "lstm_5 (LSTM)                (None, 64)                49408     \n",
      "_________________________________________________________________\n",
      "dense_2 (Dense)              (None, 64)                4160      \n",
      "_________________________________________________________________\n",
      "dense_3 (Dense)              (None, 32)                2080      \n",
      "_________________________________________________________________\n",
      "dense_4 (Dense)              (None, 3)                 99        \n",
      "=================================================================\n",
      "Total params: 596,675\n",
      "Trainable params: 596,675\n",
      "Non-trainable params: 0\n",
      "_________________________________________________________________\n"
     ]
    }
   ],
   "source": [
    "model.summary()"
   ]
  },
  {
   "cell_type": "markdown",
   "metadata": {},
   "source": [
    "# 8. Make Predictions"
   ]
  },
  {
   "cell_type": "code",
   "execution_count": 65,
   "metadata": {},
   "outputs": [],
   "source": [
    "res = model.predict(X_test)"
   ]
  },
  {
   "cell_type": "code",
   "execution_count": 66,
   "metadata": {},
   "outputs": [
    {
     "data": {
      "text/plain": "'jetaime'"
     },
     "execution_count": 66,
     "metadata": {},
     "output_type": "execute_result"
    }
   ],
   "source": [
    "actions[np.argmax(res[4])]"
   ]
  },
  {
   "cell_type": "code",
   "execution_count": 67,
   "metadata": {},
   "outputs": [
    {
     "data": {
      "text/plain": "'jetaime'"
     },
     "execution_count": 67,
     "metadata": {},
     "output_type": "execute_result"
    }
   ],
   "source": [
    "actions[np.argmax(y_test[4])]"
   ]
  },
  {
   "cell_type": "markdown",
   "metadata": {},
   "source": [
    "# 9. Save Weights"
   ]
  },
  {
   "cell_type": "code",
   "execution_count": 68,
   "metadata": {},
   "outputs": [],
   "source": [
    "model.save('action-fr_v2.h5')"
   ]
  },
  {
   "cell_type": "code",
   "execution_count": 69,
   "metadata": {},
   "outputs": [],
   "source": [
    "del model"
   ]
  },
  {
   "cell_type": "code",
   "execution_count": 75,
   "metadata": {},
   "outputs": [],
   "source": [
    "model.load_weights('action-fr.h5')"
   ]
  },
  {
   "cell_type": "markdown",
   "metadata": {},
   "source": [
    "# 10. Evaluation using Confusion Matrix and Accuracy"
   ]
  },
  {
   "cell_type": "code",
   "execution_count": 76,
   "metadata": {},
   "outputs": [],
   "source": [
    "from sklearn.metrics import multilabel_confusion_matrix, accuracy_score"
   ]
  },
  {
   "cell_type": "code",
   "execution_count": 77,
   "metadata": {},
   "outputs": [],
   "source": [
    "yhat = model.predict(X_test)"
   ]
  },
  {
   "cell_type": "code",
   "execution_count": 78,
   "metadata": {},
   "outputs": [],
   "source": [
    "ytrue = np.argmax(y_test, axis=1).tolist()\n",
    "yhat = np.argmax(yhat, axis=1).tolist()"
   ]
  },
  {
   "cell_type": "code",
   "execution_count": 79,
   "metadata": {},
   "outputs": [
    {
     "data": {
      "text/plain": "array([[[0, 4],\n        [0, 1]],\n\n       [[4, 0],\n        [1, 0]],\n\n       [[2, 0],\n        [3, 0]]], dtype=int64)"
     },
     "execution_count": 79,
     "metadata": {},
     "output_type": "execute_result"
    }
   ],
   "source": [
    "multilabel_confusion_matrix(ytrue, yhat)"
   ]
  },
  {
   "cell_type": "code",
   "execution_count": 80,
   "metadata": {},
   "outputs": [
    {
     "data": {
      "text/plain": "0.2"
     },
     "execution_count": 80,
     "metadata": {},
     "output_type": "execute_result"
    }
   ],
   "source": [
    "accuracy_score(ytrue, yhat)"
   ]
  },
  {
   "cell_type": "markdown",
   "metadata": {},
   "source": [
    "# 11. Test in Real Time"
   ]
  },
  {
   "cell_type": "code",
   "execution_count": 81,
   "metadata": {},
   "outputs": [],
   "source": [
    "from scipy import stats"
   ]
  },
  {
   "cell_type": "code",
   "execution_count": 82,
   "metadata": {},
   "outputs": [],
   "source": [
    "colors = [(245,117,16), (117,245,16), (16,117,245)]\n",
    "def prob_viz(res, actions, input_frame, colors):\n",
    "    output_frame = input_frame.copy()\n",
    "    for num, prob in enumerate(res):\n",
    "        cv2.rectangle(output_frame, (0,60+num*40), (int(prob*100), 90+num*40), colors[num], -1)\n",
    "        cv2.putText(output_frame, actions[num], (0, 85+num*40), cv2.FONT_HERSHEY_SIMPLEX, 1, (255,255,255), 2, cv2.LINE_AA)\n",
    "        \n",
    "    return output_frame"
   ]
  },
  {
   "cell_type": "code",
   "execution_count": 83,
   "metadata": {
    "collapsed": true
   },
   "outputs": [
    {
     "ename": "TypeError",
     "evalue": "only size-1 arrays can be converted to Python scalars",
     "output_type": "error",
     "traceback": [
      "\u001B[1;31m---------------------------------------------------------------------------\u001B[0m",
      "\u001B[1;31mTypeError\u001B[0m                                 Traceback (most recent call last)",
      "Input \u001B[1;32mIn [83]\u001B[0m, in \u001B[0;36m<cell line: 2>\u001B[1;34m()\u001B[0m\n\u001B[0;32m      1\u001B[0m plt\u001B[38;5;241m.\u001B[39mfigure(figsize\u001B[38;5;241m=\u001B[39m(\u001B[38;5;241m18\u001B[39m,\u001B[38;5;241m18\u001B[39m))\n\u001B[1;32m----> 2\u001B[0m plt\u001B[38;5;241m.\u001B[39mimshow(\u001B[43mprob_viz\u001B[49m\u001B[43m(\u001B[49m\u001B[43mres\u001B[49m\u001B[43m,\u001B[49m\u001B[43m \u001B[49m\u001B[43mactions\u001B[49m\u001B[43m,\u001B[49m\u001B[43m \u001B[49m\u001B[43mimage\u001B[49m\u001B[43m,\u001B[49m\u001B[43m \u001B[49m\u001B[43mcolors\u001B[49m\u001B[43m)\u001B[49m)\n",
      "Input \u001B[1;32mIn [82]\u001B[0m, in \u001B[0;36mprob_viz\u001B[1;34m(res, actions, input_frame, colors)\u001B[0m\n\u001B[0;32m      3\u001B[0m output_frame \u001B[38;5;241m=\u001B[39m input_frame\u001B[38;5;241m.\u001B[39mcopy()\n\u001B[0;32m      4\u001B[0m \u001B[38;5;28;01mfor\u001B[39;00m num, prob \u001B[38;5;129;01min\u001B[39;00m \u001B[38;5;28menumerate\u001B[39m(res):\n\u001B[1;32m----> 5\u001B[0m     cv2\u001B[38;5;241m.\u001B[39mrectangle(output_frame, (\u001B[38;5;241m0\u001B[39m,\u001B[38;5;241m60\u001B[39m\u001B[38;5;241m+\u001B[39mnum\u001B[38;5;241m*\u001B[39m\u001B[38;5;241m40\u001B[39m), (\u001B[38;5;28;43mint\u001B[39;49m\u001B[43m(\u001B[49m\u001B[43mprob\u001B[49m\u001B[38;5;241;43m*\u001B[39;49m\u001B[38;5;241;43m100\u001B[39;49m\u001B[43m)\u001B[49m, \u001B[38;5;241m90\u001B[39m\u001B[38;5;241m+\u001B[39mnum\u001B[38;5;241m*\u001B[39m\u001B[38;5;241m40\u001B[39m), colors[num], \u001B[38;5;241m-\u001B[39m\u001B[38;5;241m1\u001B[39m)\n\u001B[0;32m      6\u001B[0m     cv2\u001B[38;5;241m.\u001B[39mputText(output_frame, actions[num], (\u001B[38;5;241m0\u001B[39m, \u001B[38;5;241m85\u001B[39m\u001B[38;5;241m+\u001B[39mnum\u001B[38;5;241m*\u001B[39m\u001B[38;5;241m40\u001B[39m), cv2\u001B[38;5;241m.\u001B[39mFONT_HERSHEY_SIMPLEX, \u001B[38;5;241m1\u001B[39m, (\u001B[38;5;241m255\u001B[39m,\u001B[38;5;241m255\u001B[39m,\u001B[38;5;241m255\u001B[39m), \u001B[38;5;241m2\u001B[39m, cv2\u001B[38;5;241m.\u001B[39mLINE_AA)\n\u001B[0;32m      8\u001B[0m \u001B[38;5;28;01mreturn\u001B[39;00m output_frame\n",
      "\u001B[1;31mTypeError\u001B[0m: only size-1 arrays can be converted to Python scalars"
     ]
    },
    {
     "data": {
      "text/plain": "<Figure size 1296x1296 with 0 Axes>"
     },
     "metadata": {},
     "output_type": "display_data"
    }
   ],
   "source": [
    "plt.figure(figsize=(18,18))\n",
    "plt.imshow(prob_viz(res, actions, image, colors))"
   ]
  },
  {
   "cell_type": "code",
   "execution_count": 84,
   "metadata": {},
   "outputs": [
    {
     "name": "stdout",
     "output_type": "stream",
     "text": [
      "<class 'mediapipe.python.solution_base.SolutionOutputs'>\n",
      "<class 'mediapipe.python.solution_base.SolutionOutputs'>\n",
      "<class 'mediapipe.python.solution_base.SolutionOutputs'>\n",
      "<class 'mediapipe.python.solution_base.SolutionOutputs'>\n",
      "<class 'mediapipe.python.solution_base.SolutionOutputs'>\n",
      "<class 'mediapipe.python.solution_base.SolutionOutputs'>\n",
      "<class 'mediapipe.python.solution_base.SolutionOutputs'>\n",
      "<class 'mediapipe.python.solution_base.SolutionOutputs'>\n",
      "<class 'mediapipe.python.solution_base.SolutionOutputs'>\n",
      "<class 'mediapipe.python.solution_base.SolutionOutputs'>\n",
      "<class 'mediapipe.python.solution_base.SolutionOutputs'>\n",
      "<class 'mediapipe.python.solution_base.SolutionOutputs'>\n",
      "<class 'mediapipe.python.solution_base.SolutionOutputs'>\n",
      "<class 'mediapipe.python.solution_base.SolutionOutputs'>\n",
      "<class 'mediapipe.python.solution_base.SolutionOutputs'>\n",
      "<class 'mediapipe.python.solution_base.SolutionOutputs'>\n",
      "<class 'mediapipe.python.solution_base.SolutionOutputs'>\n",
      "<class 'mediapipe.python.solution_base.SolutionOutputs'>\n",
      "<class 'mediapipe.python.solution_base.SolutionOutputs'>\n",
      "<class 'mediapipe.python.solution_base.SolutionOutputs'>\n",
      "<class 'mediapipe.python.solution_base.SolutionOutputs'>\n",
      "<class 'mediapipe.python.solution_base.SolutionOutputs'>\n",
      "<class 'mediapipe.python.solution_base.SolutionOutputs'>\n",
      "<class 'mediapipe.python.solution_base.SolutionOutputs'>\n",
      "<class 'mediapipe.python.solution_base.SolutionOutputs'>\n",
      "<class 'mediapipe.python.solution_base.SolutionOutputs'>\n",
      "<class 'mediapipe.python.solution_base.SolutionOutputs'>\n",
      "<class 'mediapipe.python.solution_base.SolutionOutputs'>\n",
      "<class 'mediapipe.python.solution_base.SolutionOutputs'>\n",
      "<class 'mediapipe.python.solution_base.SolutionOutputs'>\n",
      "bonjour\n",
      "<class 'mediapipe.python.solution_base.SolutionOutputs'>\n",
      "bonjour\n",
      "<class 'mediapipe.python.solution_base.SolutionOutputs'>\n",
      "bonjour\n",
      "<class 'mediapipe.python.solution_base.SolutionOutputs'>\n",
      "bonjour\n",
      "<class 'mediapipe.python.solution_base.SolutionOutputs'>\n",
      "bonjour\n",
      "<class 'mediapipe.python.solution_base.SolutionOutputs'>\n",
      "bonjour\n",
      "<class 'mediapipe.python.solution_base.SolutionOutputs'>\n",
      "bonjour\n",
      "<class 'mediapipe.python.solution_base.SolutionOutputs'>\n",
      "bonjour\n",
      "<class 'mediapipe.python.solution_base.SolutionOutputs'>\n",
      "bonjour\n",
      "<class 'mediapipe.python.solution_base.SolutionOutputs'>\n",
      "bonjour\n",
      "<class 'mediapipe.python.solution_base.SolutionOutputs'>\n",
      "bonjour\n",
      "<class 'mediapipe.python.solution_base.SolutionOutputs'>\n",
      "bonjour\n",
      "<class 'mediapipe.python.solution_base.SolutionOutputs'>\n",
      "bonjour\n",
      "<class 'mediapipe.python.solution_base.SolutionOutputs'>\n",
      "bonjour\n",
      "<class 'mediapipe.python.solution_base.SolutionOutputs'>\n",
      "bonjour\n",
      "<class 'mediapipe.python.solution_base.SolutionOutputs'>\n",
      "bonjour\n",
      "<class 'mediapipe.python.solution_base.SolutionOutputs'>\n",
      "bonjour\n",
      "<class 'mediapipe.python.solution_base.SolutionOutputs'>\n",
      "bonjour\n",
      "<class 'mediapipe.python.solution_base.SolutionOutputs'>\n",
      "bonjour\n",
      "<class 'mediapipe.python.solution_base.SolutionOutputs'>\n",
      "bonjour\n",
      "<class 'mediapipe.python.solution_base.SolutionOutputs'>\n",
      "bonjour\n",
      "<class 'mediapipe.python.solution_base.SolutionOutputs'>\n",
      "bonjour\n",
      "<class 'mediapipe.python.solution_base.SolutionOutputs'>\n",
      "bonjour\n",
      "<class 'mediapipe.python.solution_base.SolutionOutputs'>\n",
      "bonjour\n",
      "<class 'mediapipe.python.solution_base.SolutionOutputs'>\n",
      "bonjour\n",
      "<class 'mediapipe.python.solution_base.SolutionOutputs'>\n",
      "bonjour\n",
      "<class 'mediapipe.python.solution_base.SolutionOutputs'>\n",
      "bonjour\n",
      "<class 'mediapipe.python.solution_base.SolutionOutputs'>\n",
      "bonjour\n",
      "<class 'mediapipe.python.solution_base.SolutionOutputs'>\n",
      "bonjour\n",
      "<class 'mediapipe.python.solution_base.SolutionOutputs'>\n",
      "bonjour\n",
      "<class 'mediapipe.python.solution_base.SolutionOutputs'>\n",
      "bonjour\n",
      "<class 'mediapipe.python.solution_base.SolutionOutputs'>\n",
      "bonjour\n",
      "<class 'mediapipe.python.solution_base.SolutionOutputs'>\n",
      "bonjour\n",
      "<class 'mediapipe.python.solution_base.SolutionOutputs'>\n",
      "bonjour\n",
      "<class 'mediapipe.python.solution_base.SolutionOutputs'>\n",
      "bonjour\n",
      "<class 'mediapipe.python.solution_base.SolutionOutputs'>\n",
      "bonjour\n",
      "<class 'mediapipe.python.solution_base.SolutionOutputs'>\n",
      "bonjour\n",
      "<class 'mediapipe.python.solution_base.SolutionOutputs'>\n",
      "bonjour\n",
      "<class 'mediapipe.python.solution_base.SolutionOutputs'>\n",
      "bonjour\n",
      "<class 'mediapipe.python.solution_base.SolutionOutputs'>\n",
      "bonjour\n",
      "<class 'mediapipe.python.solution_base.SolutionOutputs'>\n",
      "bonjour\n",
      "<class 'mediapipe.python.solution_base.SolutionOutputs'>\n",
      "bonjour\n",
      "<class 'mediapipe.python.solution_base.SolutionOutputs'>\n",
      "bonjour\n",
      "<class 'mediapipe.python.solution_base.SolutionOutputs'>\n",
      "bonjour\n",
      "<class 'mediapipe.python.solution_base.SolutionOutputs'>\n",
      "bonjour\n",
      "<class 'mediapipe.python.solution_base.SolutionOutputs'>\n",
      "bonjour\n",
      "<class 'mediapipe.python.solution_base.SolutionOutputs'>\n",
      "bonjour\n",
      "<class 'mediapipe.python.solution_base.SolutionOutputs'>\n",
      "bonjour\n",
      "<class 'mediapipe.python.solution_base.SolutionOutputs'>\n",
      "bonjour\n",
      "<class 'mediapipe.python.solution_base.SolutionOutputs'>\n",
      "bonjour\n",
      "<class 'mediapipe.python.solution_base.SolutionOutputs'>\n",
      "bonjour\n",
      "<class 'mediapipe.python.solution_base.SolutionOutputs'>\n",
      "bonjour\n",
      "<class 'mediapipe.python.solution_base.SolutionOutputs'>\n",
      "bonjour\n",
      "<class 'mediapipe.python.solution_base.SolutionOutputs'>\n",
      "bonjour\n",
      "<class 'mediapipe.python.solution_base.SolutionOutputs'>\n",
      "jetaime\n",
      "<class 'mediapipe.python.solution_base.SolutionOutputs'>\n",
      "jetaime\n",
      "<class 'mediapipe.python.solution_base.SolutionOutputs'>\n",
      "jetaime\n",
      "<class 'mediapipe.python.solution_base.SolutionOutputs'>\n",
      "jetaime\n",
      "<class 'mediapipe.python.solution_base.SolutionOutputs'>\n",
      "jetaime\n",
      "<class 'mediapipe.python.solution_base.SolutionOutputs'>\n",
      "jetaime\n",
      "<class 'mediapipe.python.solution_base.SolutionOutputs'>\n",
      "bonjour\n",
      "<class 'mediapipe.python.solution_base.SolutionOutputs'>\n",
      "jetaime\n",
      "<class 'mediapipe.python.solution_base.SolutionOutputs'>\n",
      "bonjour\n",
      "<class 'mediapipe.python.solution_base.SolutionOutputs'>\n",
      "bonjour\n",
      "<class 'mediapipe.python.solution_base.SolutionOutputs'>\n",
      "bonjour\n",
      "<class 'mediapipe.python.solution_base.SolutionOutputs'>\n",
      "bonjour\n",
      "<class 'mediapipe.python.solution_base.SolutionOutputs'>\n",
      "bonjour\n",
      "<class 'mediapipe.python.solution_base.SolutionOutputs'>\n",
      "bonjour\n",
      "<class 'mediapipe.python.solution_base.SolutionOutputs'>\n",
      "bonjour\n",
      "<class 'mediapipe.python.solution_base.SolutionOutputs'>\n",
      "bonjour\n",
      "<class 'mediapipe.python.solution_base.SolutionOutputs'>\n",
      "bonjour\n",
      "<class 'mediapipe.python.solution_base.SolutionOutputs'>\n",
      "bonjour\n",
      "<class 'mediapipe.python.solution_base.SolutionOutputs'>\n",
      "bonjour\n",
      "<class 'mediapipe.python.solution_base.SolutionOutputs'>\n",
      "bonjour\n",
      "<class 'mediapipe.python.solution_base.SolutionOutputs'>\n",
      "bonjour\n",
      "<class 'mediapipe.python.solution_base.SolutionOutputs'>\n",
      "bonjour\n",
      "<class 'mediapipe.python.solution_base.SolutionOutputs'>\n",
      "bonjour\n",
      "<class 'mediapipe.python.solution_base.SolutionOutputs'>\n",
      "bonjour\n",
      "<class 'mediapipe.python.solution_base.SolutionOutputs'>\n",
      "bonjour\n",
      "<class 'mediapipe.python.solution_base.SolutionOutputs'>\n",
      "bonjour\n",
      "<class 'mediapipe.python.solution_base.SolutionOutputs'>\n",
      "bonjour\n",
      "<class 'mediapipe.python.solution_base.SolutionOutputs'>\n",
      "bonjour\n",
      "<class 'mediapipe.python.solution_base.SolutionOutputs'>\n",
      "bonjour\n",
      "<class 'mediapipe.python.solution_base.SolutionOutputs'>\n",
      "bonjour\n",
      "<class 'mediapipe.python.solution_base.SolutionOutputs'>\n",
      "bonjour\n",
      "<class 'mediapipe.python.solution_base.SolutionOutputs'>\n",
      "bonjour\n",
      "<class 'mediapipe.python.solution_base.SolutionOutputs'>\n",
      "bonjour\n",
      "<class 'mediapipe.python.solution_base.SolutionOutputs'>\n",
      "bonjour\n",
      "<class 'mediapipe.python.solution_base.SolutionOutputs'>\n",
      "bonjour\n",
      "<class 'mediapipe.python.solution_base.SolutionOutputs'>\n",
      "bonjour\n",
      "<class 'mediapipe.python.solution_base.SolutionOutputs'>\n",
      "bonjour\n",
      "<class 'mediapipe.python.solution_base.SolutionOutputs'>\n",
      "bonjour\n",
      "<class 'mediapipe.python.solution_base.SolutionOutputs'>\n",
      "bonjour\n",
      "<class 'mediapipe.python.solution_base.SolutionOutputs'>\n",
      "bonjour\n",
      "<class 'mediapipe.python.solution_base.SolutionOutputs'>\n",
      "bonjour\n",
      "<class 'mediapipe.python.solution_base.SolutionOutputs'>\n",
      "bonjour\n",
      "<class 'mediapipe.python.solution_base.SolutionOutputs'>\n",
      "bonjour\n",
      "<class 'mediapipe.python.solution_base.SolutionOutputs'>\n",
      "bonjour\n",
      "<class 'mediapipe.python.solution_base.SolutionOutputs'>\n",
      "bonjour\n",
      "<class 'mediapipe.python.solution_base.SolutionOutputs'>\n",
      "bonjour\n",
      "<class 'mediapipe.python.solution_base.SolutionOutputs'>\n",
      "bonjour\n",
      "<class 'mediapipe.python.solution_base.SolutionOutputs'>\n",
      "bonjour\n",
      "<class 'mediapipe.python.solution_base.SolutionOutputs'>\n",
      "bonjour\n",
      "<class 'mediapipe.python.solution_base.SolutionOutputs'>\n",
      "bonjour\n",
      "<class 'mediapipe.python.solution_base.SolutionOutputs'>\n",
      "bonjour\n",
      "<class 'mediapipe.python.solution_base.SolutionOutputs'>\n",
      "bonjour\n",
      "<class 'mediapipe.python.solution_base.SolutionOutputs'>\n",
      "bonjour\n",
      "<class 'mediapipe.python.solution_base.SolutionOutputs'>\n",
      "bonjour\n",
      "<class 'mediapipe.python.solution_base.SolutionOutputs'>\n",
      "bonjour\n",
      "<class 'mediapipe.python.solution_base.SolutionOutputs'>\n",
      "bonjour\n",
      "<class 'mediapipe.python.solution_base.SolutionOutputs'>\n",
      "bonjour\n",
      "<class 'mediapipe.python.solution_base.SolutionOutputs'>\n",
      "bonjour\n",
      "<class 'mediapipe.python.solution_base.SolutionOutputs'>\n",
      "bonjour\n",
      "<class 'mediapipe.python.solution_base.SolutionOutputs'>\n",
      "bonjour\n",
      "<class 'mediapipe.python.solution_base.SolutionOutputs'>\n",
      "bonjour\n",
      "<class 'mediapipe.python.solution_base.SolutionOutputs'>\n",
      "bonjour\n",
      "<class 'mediapipe.python.solution_base.SolutionOutputs'>\n",
      "bonjour\n",
      "<class 'mediapipe.python.solution_base.SolutionOutputs'>\n",
      "bonjour\n",
      "<class 'mediapipe.python.solution_base.SolutionOutputs'>\n",
      "bonjour\n",
      "<class 'mediapipe.python.solution_base.SolutionOutputs'>\n",
      "bonjour\n",
      "<class 'mediapipe.python.solution_base.SolutionOutputs'>\n",
      "bonjour\n",
      "<class 'mediapipe.python.solution_base.SolutionOutputs'>\n",
      "bonjour\n",
      "<class 'mediapipe.python.solution_base.SolutionOutputs'>\n",
      "bonjour\n",
      "<class 'mediapipe.python.solution_base.SolutionOutputs'>\n",
      "bonjour\n",
      "<class 'mediapipe.python.solution_base.SolutionOutputs'>\n",
      "bonjour\n",
      "<class 'mediapipe.python.solution_base.SolutionOutputs'>\n",
      "bonjour\n",
      "<class 'mediapipe.python.solution_base.SolutionOutputs'>\n",
      "bonjour\n",
      "<class 'mediapipe.python.solution_base.SolutionOutputs'>\n",
      "bonjour\n",
      "<class 'mediapipe.python.solution_base.SolutionOutputs'>\n",
      "bonjour\n",
      "<class 'mediapipe.python.solution_base.SolutionOutputs'>\n",
      "bonjour\n",
      "<class 'mediapipe.python.solution_base.SolutionOutputs'>\n",
      "bonjour\n",
      "<class 'mediapipe.python.solution_base.SolutionOutputs'>\n",
      "bonjour\n",
      "<class 'mediapipe.python.solution_base.SolutionOutputs'>\n",
      "bonjour\n",
      "<class 'mediapipe.python.solution_base.SolutionOutputs'>\n",
      "bonjour\n",
      "<class 'mediapipe.python.solution_base.SolutionOutputs'>\n",
      "bonjour\n",
      "<class 'mediapipe.python.solution_base.SolutionOutputs'>\n",
      "bonjour\n",
      "<class 'mediapipe.python.solution_base.SolutionOutputs'>\n",
      "bonjour\n",
      "<class 'mediapipe.python.solution_base.SolutionOutputs'>\n",
      "bonjour\n",
      "<class 'mediapipe.python.solution_base.SolutionOutputs'>\n",
      "bonjour\n",
      "<class 'mediapipe.python.solution_base.SolutionOutputs'>\n",
      "bonjour\n",
      "<class 'mediapipe.python.solution_base.SolutionOutputs'>\n",
      "bonjour\n",
      "<class 'mediapipe.python.solution_base.SolutionOutputs'>\n",
      "bonjour\n",
      "<class 'mediapipe.python.solution_base.SolutionOutputs'>\n",
      "bonjour\n",
      "<class 'mediapipe.python.solution_base.SolutionOutputs'>\n",
      "bonjour\n",
      "<class 'mediapipe.python.solution_base.SolutionOutputs'>\n",
      "bonjour\n",
      "<class 'mediapipe.python.solution_base.SolutionOutputs'>\n",
      "bonjour\n",
      "<class 'mediapipe.python.solution_base.SolutionOutputs'>\n",
      "bonjour\n",
      "<class 'mediapipe.python.solution_base.SolutionOutputs'>\n",
      "bonjour\n",
      "<class 'mediapipe.python.solution_base.SolutionOutputs'>\n",
      "bonjour\n",
      "<class 'mediapipe.python.solution_base.SolutionOutputs'>\n",
      "bonjour\n",
      "<class 'mediapipe.python.solution_base.SolutionOutputs'>\n",
      "bonjour\n",
      "<class 'mediapipe.python.solution_base.SolutionOutputs'>\n",
      "bonjour\n",
      "<class 'mediapipe.python.solution_base.SolutionOutputs'>\n",
      "bonjour\n",
      "<class 'mediapipe.python.solution_base.SolutionOutputs'>\n",
      "bonjour\n",
      "<class 'mediapipe.python.solution_base.SolutionOutputs'>\n",
      "bonjour\n",
      "<class 'mediapipe.python.solution_base.SolutionOutputs'>\n",
      "bonjour\n",
      "<class 'mediapipe.python.solution_base.SolutionOutputs'>\n",
      "bonjour\n",
      "<class 'mediapipe.python.solution_base.SolutionOutputs'>\n",
      "jetaime\n",
      "<class 'mediapipe.python.solution_base.SolutionOutputs'>\n",
      "bonjour\n",
      "<class 'mediapipe.python.solution_base.SolutionOutputs'>\n",
      "bonjour\n",
      "<class 'mediapipe.python.solution_base.SolutionOutputs'>\n",
      "bonjour\n",
      "<class 'mediapipe.python.solution_base.SolutionOutputs'>\n",
      "bonjour\n",
      "<class 'mediapipe.python.solution_base.SolutionOutputs'>\n",
      "bonjour\n",
      "<class 'mediapipe.python.solution_base.SolutionOutputs'>\n",
      "bonjour\n",
      "<class 'mediapipe.python.solution_base.SolutionOutputs'>\n",
      "bonjour\n",
      "<class 'mediapipe.python.solution_base.SolutionOutputs'>\n",
      "bonjour\n",
      "<class 'mediapipe.python.solution_base.SolutionOutputs'>\n",
      "bonjour\n",
      "<class 'mediapipe.python.solution_base.SolutionOutputs'>\n",
      "bonjour\n",
      "<class 'mediapipe.python.solution_base.SolutionOutputs'>\n",
      "bonjour\n",
      "<class 'mediapipe.python.solution_base.SolutionOutputs'>\n",
      "bonjour\n",
      "<class 'mediapipe.python.solution_base.SolutionOutputs'>\n",
      "bonjour\n",
      "<class 'mediapipe.python.solution_base.SolutionOutputs'>\n",
      "bonjour\n",
      "<class 'mediapipe.python.solution_base.SolutionOutputs'>\n",
      "bonjour\n",
      "<class 'mediapipe.python.solution_base.SolutionOutputs'>\n",
      "bonjour\n",
      "<class 'mediapipe.python.solution_base.SolutionOutputs'>\n",
      "bonjour\n",
      "<class 'mediapipe.python.solution_base.SolutionOutputs'>\n",
      "bonjour\n",
      "<class 'mediapipe.python.solution_base.SolutionOutputs'>\n",
      "bonjour\n",
      "<class 'mediapipe.python.solution_base.SolutionOutputs'>\n",
      "bonjour\n",
      "<class 'mediapipe.python.solution_base.SolutionOutputs'>\n",
      "bonjour\n",
      "<class 'mediapipe.python.solution_base.SolutionOutputs'>\n",
      "bonjour\n",
      "<class 'mediapipe.python.solution_base.SolutionOutputs'>\n",
      "bonjour\n",
      "<class 'mediapipe.python.solution_base.SolutionOutputs'>\n",
      "bonjour\n",
      "<class 'mediapipe.python.solution_base.SolutionOutputs'>\n",
      "bonjour\n",
      "<class 'mediapipe.python.solution_base.SolutionOutputs'>\n",
      "bonjour\n",
      "<class 'mediapipe.python.solution_base.SolutionOutputs'>\n",
      "bonjour\n",
      "<class 'mediapipe.python.solution_base.SolutionOutputs'>\n",
      "bonjour\n",
      "<class 'mediapipe.python.solution_base.SolutionOutputs'>\n",
      "bonjour\n",
      "<class 'mediapipe.python.solution_base.SolutionOutputs'>\n",
      "bonjour\n",
      "<class 'mediapipe.python.solution_base.SolutionOutputs'>\n",
      "bonjour\n",
      "<class 'mediapipe.python.solution_base.SolutionOutputs'>\n",
      "bonjour\n",
      "<class 'mediapipe.python.solution_base.SolutionOutputs'>\n",
      "bonjour\n",
      "<class 'mediapipe.python.solution_base.SolutionOutputs'>\n",
      "bonjour\n",
      "<class 'mediapipe.python.solution_base.SolutionOutputs'>\n",
      "bonjour\n",
      "<class 'mediapipe.python.solution_base.SolutionOutputs'>\n",
      "bonjour\n",
      "<class 'mediapipe.python.solution_base.SolutionOutputs'>\n",
      "bonjour\n",
      "<class 'mediapipe.python.solution_base.SolutionOutputs'>\n",
      "bonjour\n",
      "<class 'mediapipe.python.solution_base.SolutionOutputs'>\n",
      "bonjour\n",
      "<class 'mediapipe.python.solution_base.SolutionOutputs'>\n",
      "bonjour\n",
      "<class 'mediapipe.python.solution_base.SolutionOutputs'>\n",
      "bonjour\n",
      "<class 'mediapipe.python.solution_base.SolutionOutputs'>\n",
      "bonjour\n",
      "<class 'mediapipe.python.solution_base.SolutionOutputs'>\n",
      "bonjour\n",
      "<class 'mediapipe.python.solution_base.SolutionOutputs'>\n",
      "bonjour\n",
      "<class 'mediapipe.python.solution_base.SolutionOutputs'>\n",
      "jetaime\n",
      "<class 'mediapipe.python.solution_base.SolutionOutputs'>\n",
      "jetaime\n",
      "<class 'mediapipe.python.solution_base.SolutionOutputs'>\n",
      "jetaime\n",
      "<class 'mediapipe.python.solution_base.SolutionOutputs'>\n",
      "jetaime\n",
      "<class 'mediapipe.python.solution_base.SolutionOutputs'>\n",
      "jetaime\n",
      "<class 'mediapipe.python.solution_base.SolutionOutputs'>\n",
      "jetaime\n",
      "<class 'mediapipe.python.solution_base.SolutionOutputs'>\n",
      "jetaime\n",
      "<class 'mediapipe.python.solution_base.SolutionOutputs'>\n",
      "bonjour\n",
      "<class 'mediapipe.python.solution_base.SolutionOutputs'>\n",
      "jetaime\n",
      "<class 'mediapipe.python.solution_base.SolutionOutputs'>\n",
      "bonjour\n",
      "<class 'mediapipe.python.solution_base.SolutionOutputs'>\n",
      "bonjour\n",
      "<class 'mediapipe.python.solution_base.SolutionOutputs'>\n",
      "bonjour\n",
      "<class 'mediapipe.python.solution_base.SolutionOutputs'>\n",
      "bonjour\n",
      "<class 'mediapipe.python.solution_base.SolutionOutputs'>\n",
      "bonjour\n",
      "<class 'mediapipe.python.solution_base.SolutionOutputs'>\n",
      "bonjour\n",
      "<class 'mediapipe.python.solution_base.SolutionOutputs'>\n",
      "bonjour\n",
      "<class 'mediapipe.python.solution_base.SolutionOutputs'>\n",
      "bonjour\n",
      "<class 'mediapipe.python.solution_base.SolutionOutputs'>\n",
      "bonjour\n",
      "<class 'mediapipe.python.solution_base.SolutionOutputs'>\n",
      "bonjour\n",
      "<class 'mediapipe.python.solution_base.SolutionOutputs'>\n",
      "jetaime\n",
      "<class 'mediapipe.python.solution_base.SolutionOutputs'>\n",
      "jetaime\n",
      "<class 'mediapipe.python.solution_base.SolutionOutputs'>\n",
      "jetaime\n",
      "<class 'mediapipe.python.solution_base.SolutionOutputs'>\n",
      "bonjour\n",
      "<class 'mediapipe.python.solution_base.SolutionOutputs'>\n",
      "bonjour\n",
      "<class 'mediapipe.python.solution_base.SolutionOutputs'>\n",
      "bonjour\n",
      "<class 'mediapipe.python.solution_base.SolutionOutputs'>\n",
      "bonjour\n",
      "<class 'mediapipe.python.solution_base.SolutionOutputs'>\n",
      "bonjour\n",
      "<class 'mediapipe.python.solution_base.SolutionOutputs'>\n",
      "bonjour\n",
      "<class 'mediapipe.python.solution_base.SolutionOutputs'>\n",
      "bonjour\n",
      "<class 'mediapipe.python.solution_base.SolutionOutputs'>\n",
      "bonjour\n",
      "<class 'mediapipe.python.solution_base.SolutionOutputs'>\n",
      "bonjour\n",
      "<class 'mediapipe.python.solution_base.SolutionOutputs'>\n",
      "bonjour\n",
      "<class 'mediapipe.python.solution_base.SolutionOutputs'>\n",
      "bonjour\n",
      "<class 'mediapipe.python.solution_base.SolutionOutputs'>\n",
      "bonjour\n",
      "<class 'mediapipe.python.solution_base.SolutionOutputs'>\n",
      "bonjour\n",
      "<class 'mediapipe.python.solution_base.SolutionOutputs'>\n",
      "bonjour\n",
      "<class 'mediapipe.python.solution_base.SolutionOutputs'>\n",
      "bonjour\n",
      "<class 'mediapipe.python.solution_base.SolutionOutputs'>\n",
      "bonjour\n",
      "<class 'mediapipe.python.solution_base.SolutionOutputs'>\n",
      "bonjour\n",
      "<class 'mediapipe.python.solution_base.SolutionOutputs'>\n",
      "bonjour\n",
      "<class 'mediapipe.python.solution_base.SolutionOutputs'>\n",
      "bonjour\n",
      "<class 'mediapipe.python.solution_base.SolutionOutputs'>\n",
      "bonjour\n",
      "<class 'mediapipe.python.solution_base.SolutionOutputs'>\n",
      "bonjour\n",
      "<class 'mediapipe.python.solution_base.SolutionOutputs'>\n",
      "bonjour\n",
      "<class 'mediapipe.python.solution_base.SolutionOutputs'>\n",
      "bonjour\n",
      "<class 'mediapipe.python.solution_base.SolutionOutputs'>\n",
      "bonjour\n",
      "<class 'mediapipe.python.solution_base.SolutionOutputs'>\n",
      "bonjour\n",
      "<class 'mediapipe.python.solution_base.SolutionOutputs'>\n",
      "bonjour\n",
      "<class 'mediapipe.python.solution_base.SolutionOutputs'>\n",
      "bonjour\n",
      "<class 'mediapipe.python.solution_base.SolutionOutputs'>\n",
      "bonjour\n",
      "<class 'mediapipe.python.solution_base.SolutionOutputs'>\n",
      "bonjour\n",
      "<class 'mediapipe.python.solution_base.SolutionOutputs'>\n",
      "bonjour\n",
      "<class 'mediapipe.python.solution_base.SolutionOutputs'>\n",
      "bonjour\n",
      "<class 'mediapipe.python.solution_base.SolutionOutputs'>\n",
      "bonjour\n",
      "<class 'mediapipe.python.solution_base.SolutionOutputs'>\n",
      "bonjour\n",
      "<class 'mediapipe.python.solution_base.SolutionOutputs'>\n",
      "bonjour\n",
      "<class 'mediapipe.python.solution_base.SolutionOutputs'>\n",
      "bonjour\n",
      "<class 'mediapipe.python.solution_base.SolutionOutputs'>\n",
      "bonjour\n",
      "<class 'mediapipe.python.solution_base.SolutionOutputs'>\n",
      "bonjour\n",
      "<class 'mediapipe.python.solution_base.SolutionOutputs'>\n",
      "bonjour\n",
      "<class 'mediapipe.python.solution_base.SolutionOutputs'>\n",
      "bonjour\n",
      "<class 'mediapipe.python.solution_base.SolutionOutputs'>\n",
      "bonjour\n",
      "<class 'mediapipe.python.solution_base.SolutionOutputs'>\n",
      "bonjour\n",
      "<class 'mediapipe.python.solution_base.SolutionOutputs'>\n"
     ]
    },
    {
     "ename": "KeyboardInterrupt",
     "evalue": "",
     "output_type": "error",
     "traceback": [
      "\u001B[1;31m---------------------------------------------------------------------------\u001B[0m",
      "\u001B[1;31mKeyboardInterrupt\u001B[0m                         Traceback (most recent call last)",
      "Input \u001B[1;32mIn [84]\u001B[0m, in \u001B[0;36m<cell line: 9>\u001B[1;34m()\u001B[0m\n\u001B[0;32m     17\u001B[0m \u001B[38;5;28mprint\u001B[39m(results)\n\u001B[0;32m     19\u001B[0m \u001B[38;5;66;03m# Draw landmarks\u001B[39;00m\n\u001B[1;32m---> 20\u001B[0m \u001B[43mdraw_styled_landmarks\u001B[49m\u001B[43m(\u001B[49m\u001B[43mimage\u001B[49m\u001B[43m,\u001B[49m\u001B[43m \u001B[49m\u001B[43mresults\u001B[49m\u001B[43m)\u001B[49m\n\u001B[0;32m     22\u001B[0m \u001B[38;5;66;03m# 2. Prediction logic\u001B[39;00m\n\u001B[0;32m     23\u001B[0m keypoints \u001B[38;5;241m=\u001B[39m extract_keypoints(results)\n",
      "Input \u001B[1;32mIn [14]\u001B[0m, in \u001B[0;36mdraw_styled_landmarks\u001B[1;34m(image, results)\u001B[0m\n\u001B[0;32m      1\u001B[0m \u001B[38;5;28;01mdef\u001B[39;00m \u001B[38;5;21mdraw_styled_landmarks\u001B[39m(image, results):\n\u001B[0;32m      2\u001B[0m     \u001B[38;5;66;03m# Draw face connections\u001B[39;00m\n\u001B[1;32m----> 3\u001B[0m     \u001B[43mmp_drawing\u001B[49m\u001B[38;5;241;43m.\u001B[39;49m\u001B[43mdraw_landmarks\u001B[49m\u001B[43m(\u001B[49m\u001B[43mimage\u001B[49m\u001B[43m,\u001B[49m\u001B[43m \u001B[49m\u001B[43mresults\u001B[49m\u001B[38;5;241;43m.\u001B[39;49m\u001B[43mface_landmarks\u001B[49m\u001B[43m,\u001B[49m\u001B[43m \u001B[49m\u001B[43mmp_holistic\u001B[49m\u001B[38;5;241;43m.\u001B[39;49m\u001B[43mFACEMESH_TESSELATION\u001B[49m\u001B[43m,\u001B[49m\n\u001B[0;32m      4\u001B[0m \u001B[43m                             \u001B[49m\u001B[43mmp_drawing\u001B[49m\u001B[38;5;241;43m.\u001B[39;49m\u001B[43mDrawingSpec\u001B[49m\u001B[43m(\u001B[49m\u001B[43mcolor\u001B[49m\u001B[38;5;241;43m=\u001B[39;49m\u001B[43m(\u001B[49m\u001B[38;5;241;43m80\u001B[39;49m\u001B[43m,\u001B[49m\u001B[38;5;241;43m110\u001B[39;49m\u001B[43m,\u001B[49m\u001B[38;5;241;43m10\u001B[39;49m\u001B[43m)\u001B[49m\u001B[43m,\u001B[49m\u001B[43m \u001B[49m\u001B[43mthickness\u001B[49m\u001B[38;5;241;43m=\u001B[39;49m\u001B[38;5;241;43m1\u001B[39;49m\u001B[43m,\u001B[49m\u001B[43m \u001B[49m\u001B[43mcircle_radius\u001B[49m\u001B[38;5;241;43m=\u001B[39;49m\u001B[38;5;241;43m1\u001B[39;49m\u001B[43m)\u001B[49m\u001B[43m,\u001B[49m\u001B[43m \u001B[49m\n\u001B[0;32m      5\u001B[0m \u001B[43m                             \u001B[49m\u001B[43mmp_drawing\u001B[49m\u001B[38;5;241;43m.\u001B[39;49m\u001B[43mDrawingSpec\u001B[49m\u001B[43m(\u001B[49m\u001B[43mcolor\u001B[49m\u001B[38;5;241;43m=\u001B[39;49m\u001B[43m(\u001B[49m\u001B[38;5;241;43m80\u001B[39;49m\u001B[43m,\u001B[49m\u001B[38;5;241;43m256\u001B[39;49m\u001B[43m,\u001B[49m\u001B[38;5;241;43m121\u001B[39;49m\u001B[43m)\u001B[49m\u001B[43m,\u001B[49m\u001B[43m \u001B[49m\u001B[43mthickness\u001B[49m\u001B[38;5;241;43m=\u001B[39;49m\u001B[38;5;241;43m1\u001B[39;49m\u001B[43m,\u001B[49m\u001B[43m \u001B[49m\u001B[43mcircle_radius\u001B[49m\u001B[38;5;241;43m=\u001B[39;49m\u001B[38;5;241;43m1\u001B[39;49m\u001B[43m)\u001B[49m\n\u001B[0;32m      6\u001B[0m \u001B[43m                             \u001B[49m\u001B[43m)\u001B[49m \n\u001B[0;32m      7\u001B[0m     \u001B[38;5;66;03m# Draw pose connections\u001B[39;00m\n\u001B[0;32m      8\u001B[0m     mp_drawing\u001B[38;5;241m.\u001B[39mdraw_landmarks(image, results\u001B[38;5;241m.\u001B[39mpose_landmarks, mp_holistic\u001B[38;5;241m.\u001B[39mPOSE_CONNECTIONS,\n\u001B[0;32m      9\u001B[0m                              mp_drawing\u001B[38;5;241m.\u001B[39mDrawingSpec(color\u001B[38;5;241m=\u001B[39m(\u001B[38;5;241m80\u001B[39m,\u001B[38;5;241m22\u001B[39m,\u001B[38;5;241m10\u001B[39m), thickness\u001B[38;5;241m=\u001B[39m\u001B[38;5;241m2\u001B[39m, circle_radius\u001B[38;5;241m=\u001B[39m\u001B[38;5;241m4\u001B[39m), \n\u001B[0;32m     10\u001B[0m                              mp_drawing\u001B[38;5;241m.\u001B[39mDrawingSpec(color\u001B[38;5;241m=\u001B[39m(\u001B[38;5;241m80\u001B[39m,\u001B[38;5;241m44\u001B[39m,\u001B[38;5;241m121\u001B[39m), thickness\u001B[38;5;241m=\u001B[39m\u001B[38;5;241m2\u001B[39m, circle_radius\u001B[38;5;241m=\u001B[39m\u001B[38;5;241m2\u001B[39m)\n\u001B[0;32m     11\u001B[0m                              ) \n",
      "File \u001B[1;32m~\\PycharmProjects\\LSFIA\\venv\\lib\\site-packages\\mediapipe\\python\\solutions\\drawing_utils.py:181\u001B[0m, in \u001B[0;36mdraw_landmarks\u001B[1;34m(image, landmark_list, connections, landmark_drawing_spec, connection_drawing_spec)\u001B[0m\n\u001B[0;32m    178\u001B[0m     \u001B[38;5;28;01mif\u001B[39;00m start_idx \u001B[38;5;129;01min\u001B[39;00m idx_to_coordinates \u001B[38;5;129;01mand\u001B[39;00m end_idx \u001B[38;5;129;01min\u001B[39;00m idx_to_coordinates:\n\u001B[0;32m    179\u001B[0m       drawing_spec \u001B[38;5;241m=\u001B[39m connection_drawing_spec[connection] \u001B[38;5;28;01mif\u001B[39;00m \u001B[38;5;28misinstance\u001B[39m(\n\u001B[0;32m    180\u001B[0m           connection_drawing_spec, Mapping) \u001B[38;5;28;01melse\u001B[39;00m connection_drawing_spec\n\u001B[1;32m--> 181\u001B[0m       \u001B[43mcv2\u001B[49m\u001B[38;5;241;43m.\u001B[39;49m\u001B[43mline\u001B[49m\u001B[43m(\u001B[49m\u001B[43mimage\u001B[49m\u001B[43m,\u001B[49m\u001B[43m \u001B[49m\u001B[43midx_to_coordinates\u001B[49m\u001B[43m[\u001B[49m\u001B[43mstart_idx\u001B[49m\u001B[43m]\u001B[49m\u001B[43m,\u001B[49m\n\u001B[0;32m    182\u001B[0m \u001B[43m               \u001B[49m\u001B[43midx_to_coordinates\u001B[49m\u001B[43m[\u001B[49m\u001B[43mend_idx\u001B[49m\u001B[43m]\u001B[49m\u001B[43m,\u001B[49m\u001B[43m \u001B[49m\u001B[43mdrawing_spec\u001B[49m\u001B[38;5;241;43m.\u001B[39;49m\u001B[43mcolor\u001B[49m\u001B[43m,\u001B[49m\n\u001B[0;32m    183\u001B[0m \u001B[43m               \u001B[49m\u001B[43mdrawing_spec\u001B[49m\u001B[38;5;241;43m.\u001B[39;49m\u001B[43mthickness\u001B[49m\u001B[43m)\u001B[49m\n\u001B[0;32m    184\u001B[0m \u001B[38;5;66;03m# Draws landmark points after finishing the connection lines, which is\u001B[39;00m\n\u001B[0;32m    185\u001B[0m \u001B[38;5;66;03m# aesthetically better.\u001B[39;00m\n\u001B[0;32m    186\u001B[0m \u001B[38;5;28;01mif\u001B[39;00m landmark_drawing_spec:\n",
      "\u001B[1;31mKeyboardInterrupt\u001B[0m: "
     ]
    }
   ],
   "source": [
    "# 1. New detection variables\n",
    "sequence = []\n",
    "sentence = []\n",
    "predictions = []\n",
    "threshold = 0.5\n",
    "\n",
    "cap = cv2.VideoCapture(0)\n",
    "# Set mediapipe model \n",
    "with mp_holistic.Holistic(min_detection_confidence=0.5, min_tracking_confidence=0.5) as holistic:\n",
    "    while cap.isOpened():\n",
    "\n",
    "        # Read feed\n",
    "        ret, frame = cap.read()\n",
    "\n",
    "        # Make detections\n",
    "        image, results = mediapipe_detection(frame, holistic)\n",
    "        print(results)\n",
    "        \n",
    "        # Draw landmarks\n",
    "        draw_styled_landmarks(image, results)\n",
    "        \n",
    "        # 2. Prediction logic\n",
    "        keypoints = extract_keypoints(results)\n",
    "        sequence.append(keypoints)\n",
    "        sequence = sequence[-30:]\n",
    "        \n",
    "        if len(sequence) == 30:\n",
    "            res = model.predict(np.expand_dims(sequence, axis=0))[0]\n",
    "            print(actions[np.argmax(res)])\n",
    "            predictions.append(np.argmax(res))\n",
    "            \n",
    "            \n",
    "        #3. Viz logic\n",
    "            if np.unique(predictions[-10:])[0]==np.argmax(res): \n",
    "                if res[np.argmax(res)] > threshold: \n",
    "                    \n",
    "                    if len(sentence) > 0: \n",
    "                        if actions[np.argmax(res)] != sentence[-1]:\n",
    "                            sentence.append(actions[np.argmax(res)])\n",
    "                    else:\n",
    "                        sentence.append(actions[np.argmax(res)])\n",
    "\n",
    "            if len(sentence) > 5: \n",
    "                sentence = sentence[-5:]\n",
    "\n",
    "            # Viz probabilities\n",
    "            image = prob_viz(res, actions, image, colors)\n",
    "            \n",
    "        cv2.rectangle(image, (0,0), (640, 40), (245, 117, 16), -1)\n",
    "        cv2.putText(image, ' '.join(sentence), (3,30), \n",
    "                       cv2.FONT_HERSHEY_SIMPLEX, 1, (255, 255, 255), 2, cv2.LINE_AA)\n",
    "        \n",
    "        # Show to screen\n",
    "        cv2.imshow('OpenCV Feed', image)\n",
    "\n",
    "        # Break gracefully\n",
    "        if cv2.waitKey(10) & 0xFF == ord('q'):\n",
    "            break\n",
    "    cap.release()\n",
    "    cv2.destroyAllWindows()"
   ]
  },
  {
   "cell_type": "code",
   "execution_count": null,
   "outputs": [],
   "source": [],
   "metadata": {
    "collapsed": false,
    "pycharm": {
     "name": "#%%\n"
    }
   }
  }
 ],
 "metadata": {
  "kernelspec": {
   "name": "python3",
   "language": "python",
   "display_name": "Python 3 (ipykernel)"
  },
  "language_info": {
   "codemirror_mode": {
    "name": "ipython",
    "version": 3
   },
   "file_extension": ".py",
   "mimetype": "text/x-python",
   "name": "python",
   "nbconvert_exporter": "python",
   "pygments_lexer": "ipython3",
   "version": "3.7.3"
  }
 },
 "nbformat": 4,
 "nbformat_minor": 2
}